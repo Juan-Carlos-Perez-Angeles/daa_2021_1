{
  "nbformat": 4,
  "nbformat_minor": 0,
  "metadata": {
    "colab": {
      "name": "02_Dic_daa.ipynb",
      "provenance": [],
      "authorship_tag": "ABX9TyOVzH7KoIMF3DO72PAhA8VK",
      "include_colab_link": true
    },
    "kernelspec": {
      "name": "python3",
      "display_name": "Python 3"
    }
  },
  "cells": [
    {
      "cell_type": "markdown",
      "metadata": {
        "id": "view-in-github",
        "colab_type": "text"
      },
      "source": [
        "<a href=\"https://colab.research.google.com/github/Juan-Carlos-Perez-Angeles/daa_2021_1/blob/master/07_Dic_daa.ipynb\" target=\"_parent\"><img src=\"https://colab.research.google.com/assets/colab-badge.svg\" alt=\"Open In Colab\"/></a>"
      ]
    },
    {
      "cell_type": "code",
      "metadata": {
        "id": "vAsu0iKL_khf"
      },
      "source": [
        "def fnRecInfinita():\n",
        "  print(\"Hola\")\n",
        "  fnRecInfinita"
      ],
      "execution_count": null,
      "outputs": []
    },
    {
      "cell_type": "code",
      "metadata": {
        "id": "Yy-OQKEDAg8Q"
      },
      "source": [
        "fnRecInfinita()"
      ],
      "execution_count": null,
      "outputs": []
    },
    {
      "cell_type": "code",
      "metadata": {
        "id": "Z8UjWApVAm7q"
      },
      "source": [
        "def fnRec(x):\n",
        "  if x == 0:\n",
        "    print(\"Stop\")\n",
        "  else:\n",
        "    print(x)\n",
        "    print(x-1)\n",
        "def main():\n",
        "    print(\"Inicio del Programa\")\n",
        "    fnRec()\n",
        "    print(\"Fin del Programa\")\n",
        "main()"
      ],
      "execution_count": null,
      "outputs": []
    },
    {
      "cell_type": "code",
      "metadata": {
        "id": "VMBLDLErCEoH"
      },
      "source": [
        "def printRev(x):\n",
        "  if x > 0 : \n",
        "    print(x -1)\n",
        "    print(x)\n",
        "printRev(3)"
      ],
      "execution_count": null,
      "outputs": []
    },
    {
      "cell_type": "code",
      "metadata": {
        "colab": {
          "base_uri": "https://localhost:8080/"
        },
        "id": "F7fQ1kqTJJtO",
        "outputId": "6076c148-902f-4c3c-af4c-8d4b15e87424"
      },
      "source": [
        "def fibonacci(n):\n",
        "  print(\"Llamada: \",n)\n",
        "  if n == 1 or n == 0:\n",
        "    return n\n",
        "  else:\n",
        "    return ( fibonacci(n-1) + fibonacci(n-2) )\n",
        "print(fibonacci(8))"
      ],
      "execution_count": 1,
      "outputs": [
        {
          "output_type": "stream",
          "text": [
            "Llamada:  8\n",
            "Llamada:  7\n",
            "Llamada:  6\n",
            "Llamada:  5\n",
            "Llamada:  4\n",
            "Llamada:  3\n",
            "Llamada:  2\n",
            "Llamada:  1\n",
            "Llamada:  0\n",
            "Llamada:  1\n",
            "Llamada:  2\n",
            "Llamada:  1\n",
            "Llamada:  0\n",
            "Llamada:  3\n",
            "Llamada:  2\n",
            "Llamada:  1\n",
            "Llamada:  0\n",
            "Llamada:  1\n",
            "Llamada:  4\n",
            "Llamada:  3\n",
            "Llamada:  2\n",
            "Llamada:  1\n",
            "Llamada:  0\n",
            "Llamada:  1\n",
            "Llamada:  2\n",
            "Llamada:  1\n",
            "Llamada:  0\n",
            "Llamada:  5\n",
            "Llamada:  4\n",
            "Llamada:  3\n",
            "Llamada:  2\n",
            "Llamada:  1\n",
            "Llamada:  0\n",
            "Llamada:  1\n",
            "Llamada:  2\n",
            "Llamada:  1\n",
            "Llamada:  0\n",
            "Llamada:  3\n",
            "Llamada:  2\n",
            "Llamada:  1\n",
            "Llamada:  0\n",
            "Llamada:  1\n",
            "Llamada:  6\n",
            "Llamada:  5\n",
            "Llamada:  4\n",
            "Llamada:  3\n",
            "Llamada:  2\n",
            "Llamada:  1\n",
            "Llamada:  0\n",
            "Llamada:  1\n",
            "Llamada:  2\n",
            "Llamada:  1\n",
            "Llamada:  0\n",
            "Llamada:  3\n",
            "Llamada:  2\n",
            "Llamada:  1\n",
            "Llamada:  0\n",
            "Llamada:  1\n",
            "Llamada:  4\n",
            "Llamada:  3\n",
            "Llamada:  2\n",
            "Llamada:  1\n",
            "Llamada:  0\n",
            "Llamada:  1\n",
            "Llamada:  2\n",
            "Llamada:  1\n",
            "Llamada:  0\n",
            "21\n"
          ],
          "name": "stdout"
        }
      ]
    }
  ]
}