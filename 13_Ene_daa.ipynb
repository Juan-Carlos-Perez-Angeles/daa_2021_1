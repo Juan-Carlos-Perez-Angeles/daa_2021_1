{
  "nbformat": 4,
  "nbformat_minor": 0,
  "metadata": {
    "colab": {
      "name": "13_Ene_daa.ipynb",
      "provenance": [],
      "authorship_tag": "ABX9TyOEf3xf3hsgnpL2M4pM84/j",
      "include_colab_link": true
    },
    "kernelspec": {
      "name": "python3",
      "display_name": "Python 3"
    }
  },
  "cells": [
    {
      "cell_type": "markdown",
      "metadata": {
        "id": "view-in-github",
        "colab_type": "text"
      },
      "source": [
        "<a href=\"https://colab.research.google.com/github/Juan-Carlos-Perez-Angeles/daa_2021_1/blob/master/13_Ene_daa.ipynb\" target=\"_parent\"><img src=\"https://colab.research.google.com/assets/colab-badge.svg\" alt=\"Open In Colab\"/></a>"
      ]
    },
    {
      "cell_type": "code",
      "metadata": {
        "id": "3MCj24uFMphz"
      },
      "source": [
        "class NodoArbol:\r\n",
        "  def __init__(self, value, left = None, right = None):\r\n",
        "    self.dato = value\r\n",
        "    self.left = left\r\n",
        "    self.right = right\r\n"
      ],
      "execution_count": 1,
      "outputs": []
    },
    {
      "cell_type": "code",
      "metadata": {
        "id": "jXWKI4bbS2Cy"
      },
      "source": [
        "class BinarySerchTree:\r\n",
        "  def __init__(self):\r\n",
        "    self.__root = None\r\n",
        "\r\n",
        "  def insert(self, value):\r\n",
        "    if self.__root == None:\r\n",
        "        self.__root = NodoArbol(value,None,None)\r\n",
        "    else:\r\n",
        "      self.__insert_nodo__(self.__root, value)\r\n",
        "\r\n",
        "  def __insert_nodo__(self,nodo,value):\r\n",
        "    if nodo.dato == value:\r\n",
        "      pass\r\n",
        "    elif value < nodo.dato:\r\n",
        "      if nodo.left == None:\r\n",
        "        nodo.left = NodoArbol(value,None,None)\r\n",
        "      else:\r\n",
        "        self.__insert_nodo__(nodo.left,value)\r\n",
        "    else:\r\n",
        "      if nodo.right == None:\r\n",
        "        nodo.right = NodoArbol(value,None,None)\r\n",
        "      else:\r\n",
        "        self.__insert_nodo__(nodo.right,value)"
      ],
      "execution_count": 5,
      "outputs": []
    },
    {
      "cell_type": "code",
      "metadata": {
        "id": "JosRceGZbv7C"
      },
      "source": [
        "bst = BinarySerchTree()\r\n",
        "bst.insert(50)\r\n",
        "bst.insert(30)\r\n",
        "bst.insert(20)\r\n",
        "bst.insert(30)\r\n"
      ],
      "execution_count": 6,
      "outputs": []
    }
  ]
}