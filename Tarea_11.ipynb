{
  "nbformat": 4,
  "nbformat_minor": 0,
  "metadata": {
    "colab": {
      "name": "Tarea 11.ipynb",
      "provenance": [],
      "authorship_tag": "ABX9TyP2UT8M5I1CGI02SlDwD4/h",
      "include_colab_link": true
    },
    "kernelspec": {
      "name": "python3",
      "display_name": "Python 3"
    }
  },
  "cells": [
    {
      "cell_type": "markdown",
      "metadata": {
        "id": "view-in-github",
        "colab_type": "text"
      },
      "source": [
        "<a href=\"https://colab.research.google.com/github/Juan-Carlos-Perez-Angeles/daa_2021_1/blob/master/Tarea_11.ipynb\" target=\"_parent\"><img src=\"https://colab.research.google.com/assets/colab-badge.svg\" alt=\"Open In Colab\"/></a>"
      ]
    },
    {
      "cell_type": "code",
      "metadata": {
        "id": "6XRU-rybROUI"
      },
      "source": [
        "class NodoArbol:\r\n",
        "  def __init__(self, value, left = None, right = None):\r\n",
        "    self.dato = value\r\n",
        "    self.left = left\r\n",
        "    self.right = right"
      ],
      "execution_count": 4,
      "outputs": []
    },
    {
      "cell_type": "code",
      "metadata": {
        "id": "9DZhGGRFRgt2"
      },
      "source": [
        "class BinarySerchTree:\r\n",
        "  def __init__(self):\r\n",
        "    self.__root = None\r\n",
        "\r\n",
        "  def insert(self, value):\r\n",
        "    if self.__root == None:\r\n",
        "        self.__root = NodoArbol(value,None,None)\r\n",
        "    else:\r\n",
        "      self.__insert_nodo__(self.__root, value)\r\n",
        "\r\n",
        "  def __insert_nodo__(self,nodo,value):\r\n",
        "    if nodo.dato == value:\r\n",
        "      pass\r\n",
        "    elif value < nodo.dato:\r\n",
        "      if nodo.left == None:\r\n",
        "        nodo.left = NodoArbol(value,None,None)\r\n",
        "      else:\r\n",
        "        self.__insert_nodo__(nodo.left,value)\r\n",
        "    else:\r\n",
        "      if nodo.right == None:\r\n",
        "        nodo.right = NodoArbol(value,None,None)\r\n",
        "      else:\r\n",
        "        self.__insert_nodo__(nodo.right,value)\r\n",
        "  \r\n",
        "  def buscar(self , value):\r\n",
        "    if self.__root == None:\r\n",
        "      return None\r\n",
        "    else:\r\n",
        "      return self.__buscar_nodo(self.__root , value)\r\n",
        "    \r\n",
        "  def __buscar_nodo( self , nodo , value):\r\n",
        "    if nodo == None:\r\n",
        "      return None\r\n",
        "    elif nodo.dato == value:\r\n",
        "      return nodo.dato\r\n",
        "    elif value < nodo.dato:\r\n",
        "      return self.__buscar_nodo( nodo.left, value )\r\n",
        "    else: \r\n",
        "      return self.__buscar_nodo( nodo.right , value)\r\n",
        "\r\n",
        "  def transversal(self , format = \"inorden\"):\r\n",
        "    if format == \"inorden\":\r\n",
        "      self.__recorrido_in(self.__root )\r\n",
        "    elif format == \"preorder\":\r\n",
        "      self.__recorrido_pre(self.__root)\r\n",
        "    elif format == \"posorden\":\r\n",
        "      self.__recorrido_pos(self.__root)\r\n",
        "    else: \r\n",
        "      print(\"Formato de recorrido no valido\")\r\n",
        "\r\n",
        "  def __reorrido_pre(self , nodo):\r\n",
        "    if nodo != None:\r\n",
        "      print(nodo.dato, end =\",\")\r\n",
        "      self.__recorrido_pre(nodo.left)\r\n",
        "      self.__recorrido_pre(nodo.right)\r\n",
        "\r\n",
        "  def __recorrido_in(self , nodo):\r\n",
        "    if nodo != None:\r\n",
        "      self.__recorrido_in(nodo.left)\r\n",
        "      print(nodo.dato, end = \",\")\r\n",
        "      self.__recorrido_in(nodo.right)\r\n",
        "\r\n",
        "  def __recorrido_pos(self , nodo):\r\n",
        "    if nodo != None:\r\n",
        "      self.__recorrido_pos(nodo.left)      \r\n",
        "      self.__recorrido_pos(nodo.right)\r\n",
        "      print(nodo.dato, end = \",\")\r\n",
        "\r\n",
        "  def delete(self,value):\r\n",
        "    if self.__root == None:\r\n",
        "      return False\r\n",
        "    else:\r\n",
        "      #Haremos busqueda recursiva\r\n",
        "      return self._elimina_nodo(self._root,value)\r\n",
        "\r\n",
        "  def __elimina_nodo(self,nodo,value):\r\n",
        "    if nodo == None:\r\n",
        "      return None\r\n",
        "    elif nodo.dato == value:\r\n",
        "      if nodo.rigth == None and nodo.left == None:\r\n",
        "        nodo.dato = None\r\n",
        "\r\n",
        "      if nodo.rigth == None and nodo.left != None:\r\n",
        "        nodo.dato = nodo.left.dato\r\n",
        "        nodo.left.dato = None\r\n",
        "\r\n",
        "      if nodo.rigth != None and nodo.left == None:\r\n",
        "        nodo.dato = nodo.rigth.dato\r\n",
        "        nodo.rigth.dato = None\r\n",
        "\r\n",
        "      if nodo.rigth != None and nodo.left != None:\r\n",
        "        nodo.dato = self.__buscar_menor(nodo)\r\n",
        "\r\n",
        "    elif value < nodo.dato:\r\n",
        "      return self.__elimina_nodo(nodo.left,value)\r\n",
        "    else:\r\n",
        "      return self.__elimina_nodo(nodo.rigth,value)\r\n",
        "      \r\n",
        "  def __buscar_menor(self,nodo):\r\n",
        "    if nodo != None:\r\n",
        "      aux = nodo.rigth\r\n",
        "      while aux.left != None:\r\n",
        "        aux = aux.left\r\n",
        "      menor = aux.dato\r\n",
        "      aux.dato = None\r\n",
        "      return menor"
      ],
      "execution_count": 5,
      "outputs": []
    },
    {
      "cell_type": "code",
      "metadata": {
        "colab": {
          "base_uri": "https://localhost:8080/"
        },
        "id": "5ilMW62CRnqb",
        "outputId": "6aafd4b5-3868-4ec6-fc34-1f34a144750e"
      },
      "source": [
        "bst = BinarySerchTree()\r\n",
        "bst.insert(50)\r\n",
        "bst.insert(30)\r\n",
        "bst.insert(20)\r\n",
        "res = bst.buscar(30)\r\n",
        "print(\"Dato : \", str(res))\r\n",
        "print(bst.buscar(40))\r\n",
        "print(\"recorrido\")\r\n",
        "bst.transversal(format = \"preorden\")\r\n",
        "print(\"recorrido inorden\")\r\n",
        "bst.transversal(format = \"inorden\")\r\n",
        "print(\"redcorrido posorden\")\r\n",
        "bst.transversal(format = \"posorden\")"
      ],
      "execution_count": 10,
      "outputs": [
        {
          "output_type": "stream",
          "text": [
            "Dato :  30\n",
            "None\n",
            "recorrido\n",
            "Formato de recorrido no valido\n",
            "recorrido inorden\n",
            "20,30,50,redcorrido posorden\n",
            "20,30,50,"
          ],
          "name": "stdout"
        }
      ]
    }
  ]
}