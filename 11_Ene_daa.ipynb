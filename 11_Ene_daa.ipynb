{
  "nbformat": 4,
  "nbformat_minor": 0,
  "metadata": {
    "colab": {
      "name": "11_Ene_daa.ipynb",
      "provenance": [],
      "authorship_tag": "ABX9TyNbHA1UWMHlMBVoqUyw7DYr",
      "include_colab_link": true
    },
    "kernelspec": {
      "name": "python3",
      "display_name": "Python 3"
    }
  },
  "cells": [
    {
      "cell_type": "markdown",
      "metadata": {
        "id": "view-in-github",
        "colab_type": "text"
      },
      "source": [
        "<a href=\"https://colab.research.google.com/github/Juan-Carlos-Perez-Angeles/daa_2021_1/blob/master/11_Ene_daa.ipynb\" target=\"_parent\"><img src=\"https://colab.research.google.com/assets/colab-badge.svg\" alt=\"Open In Colab\"/></a>"
      ]
    },
    {
      "cell_type": "code",
      "metadata": {
        "id": "zlpu9eul6FiK"
      },
      "source": [
        "class NodoArbol:\r\n",
        "  def __init__(self,value,left=None,rigth=None):\r\n",
        "    self.data= value\r\n",
        "    self.left= left\r\n",
        "    self.rigth= rigth"
      ],
      "execution_count": 2,
      "outputs": []
    },
    {
      "cell_type": "code",
      "metadata": {
        "id": "fWuFbv1H8vWd"
      },
      "source": [
        "arbol=NodoArbol(\"R\",NodoArbol(\"C\"),NodoArbol(\"H\"))"
      ],
      "execution_count": 4,
      "outputs": []
    },
    {
      "cell_type": "code",
      "metadata": {
        "id": "VQFpUJ3UKQaX"
      },
      "source": [
        "nodo1 = NodoArbol(\"C\")\r\n",
        "nodo2 = NodoArbol(\"H\")\r\n",
        "arbol_v2 = NodoArbol( \"R\" , nodo1 , nodo2)"
      ],
      "execution_count": null,
      "outputs": []
    },
    {
      "cell_type": "code",
      "metadata": {
        "colab": {
          "base_uri": "https://localhost:8080/"
        },
        "id": "CYpHBco4-XUj",
        "outputId": "d278d7fb-4742-4f57-b2a5-7c3020c180bb"
      },
      "source": [
        "print(arbol.rigth.data)\r\n",
        "print(arbol_v2.right.data)"
      ],
      "execution_count": 5,
      "outputs": [
        {
          "output_type": "stream",
          "text": [
            "H\n"
          ],
          "name": "stdout"
        }
      ]
    },
    {
      "cell_type": "code",
      "metadata": {
        "id": "_4tcYpwGKZHC"
      },
      "source": [
        "arbol2 = NodoArbol( 4 , NodoArbol( 3 , NodoArbol( 2 , NodoArbol( 2 ))) , NodoArbol( 5 ))\r\n",
        "print(arbol2.left.left.left.data)\r\n",
        "\r\n",
        "aux = arbol2\r\n",
        "while aux.left != None:\r\n",
        "  aux = aux.left\r\n",
        "print(aux.data)"
      ],
      "execution_count": null,
      "outputs": []
    },
    {
      "cell_type": "code",
      "metadata": {
        "id": "Ep6OdFU6Kajz"
      },
      "source": [
        "arbol3 = NodoArbol( \"Santi\" , NodoArbol( \"Jesús\" , None , NodoArbol( \"Pedro\" , None , NodoArbol( \"Diana\" ))), None )"
      ],
      "execution_count": null,
      "outputs": []
    }
  ]
}