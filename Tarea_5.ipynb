{
  "nbformat": 4,
  "nbformat_minor": 0,
  "metadata": {
    "colab": {
      "name": "Tarea 5.ipynb",
      "provenance": [],
      "authorship_tag": "ABX9TyP4BgV7KtPE2/AhFh15dXPg",
      "include_colab_link": true
    },
    "kernelspec": {
      "name": "python3",
      "display_name": "Python 3"
    }
  },
  "cells": [
    {
      "cell_type": "markdown",
      "metadata": {
        "id": "view-in-github",
        "colab_type": "text"
      },
      "source": [
        "<a href=\"https://colab.research.google.com/github/Juan-Carlos-Perez-Angeles/daa_2021_1/blob/master/Tarea_5.ipynb\" target=\"_parent\"><img src=\"https://colab.research.google.com/assets/colab-badge.svg\" alt=\"Open In Colab\"/></a>"
      ]
    },
    {
      "cell_type": "code",
      "metadata": {
        "id": "eKqwJ6mOsSMl",
        "outputId": "ccb27011-7bcf-408a-90a0-bd790f1a3540",
        "colab": {
          "base_uri": "https://localhost:8080/",
          "height": 357
        }
      },
      "source": [
        "#T(n) = 4\n",
        "from time import time\n",
        "def ejemplo1( n ):\n",
        "    start_time = time()\n",
        "    c = n + 1\n",
        "    d = c * n\n",
        "    e = n * n\n",
        "    total = c + e - d\n",
        "    print(f\"total={ total }\")\n",
        "    \n",
        "    elapsed_time = time() - start_time\n",
        "    print(\"Tiempo transcurrido: %0.10f segundos.\" % elapsed_time)\n",
        "\n",
        "\n",
        "def main():\n",
        "  for i in range (100 , 1100 , 100 ):\n",
        "    ejemplo1(i)\n",
        "\n",
        "main()"
      ],
      "execution_count": null,
      "outputs": [
        {
          "output_type": "stream",
          "text": [
            "total=1\n",
            "Tiempo transcurrido: 0.0000991821 segundos.\n",
            "total=1\n",
            "Tiempo transcurrido: 0.0000672340 segundos.\n",
            "total=1\n",
            "Tiempo transcurrido: 0.0000288486 segundos.\n",
            "total=1\n",
            "Tiempo transcurrido: 0.0000133514 segundos.\n",
            "total=1\n",
            "Tiempo transcurrido: 0.0000135899 segundos.\n",
            "total=1\n",
            "Tiempo transcurrido: 0.0000135899 segundos.\n",
            "total=1\n",
            "Tiempo transcurrido: 0.0000123978 segundos.\n",
            "total=1\n",
            "Tiempo transcurrido: 0.0000131130 segundos.\n",
            "total=1\n",
            "Tiempo transcurrido: 0.0000205040 segundos.\n",
            "total=1\n",
            "Tiempo transcurrido: 0.0000214577 segundos.\n"
          ],
          "name": "stdout"
        }
      ]
    },
    {
      "cell_type": "code",
      "metadata": {
        "id": "Q2pdaBSA34-D",
        "outputId": "5ffe6a8c-349e-4b22-caa8-7403ea7c7126",
        "colab": {
          "base_uri": "https://localhost:8080/",
          "height": 187
        }
      },
      "source": [
        "#T(n) = 1+n**2\n",
        "from time import time\n",
        "\n",
        "def ejemplo2( n ):\n",
        "    start_time = time()\n",
        "    contador = 0\n",
        "    for i in range( n ) :\n",
        "        for j in range( n ) :\n",
        "            contador += 1\n",
        "\n",
        "    elapsed_time = time() - start_time\n",
        "    print(\"Tiempo transcurrido: %0.10f segundos.\" % elapsed_time)\n",
        "    return contador\n",
        "\n",
        "def main():\n",
        "  for i in range (100 , 1100 , 100 ):\n",
        "    ejemplo2(i)\n",
        "\n",
        "main()"
      ],
      "execution_count": null,
      "outputs": [
        {
          "output_type": "stream",
          "text": [
            "Tiempo transcurrido: 0.0006926060 segundos.\n",
            "Tiempo transcurrido: 0.0017721653 segundos.\n",
            "Tiempo transcurrido: 0.0040497780 segundos.\n",
            "Tiempo transcurrido: 0.0076475143 segundos.\n",
            "Tiempo transcurrido: 0.0143511295 segundos.\n",
            "Tiempo transcurrido: 0.0232322216 segundos.\n",
            "Tiempo transcurrido: 0.0262219906 segundos.\n",
            "Tiempo transcurrido: 0.0332331657 segundos.\n",
            "Tiempo transcurrido: 0.0417435169 segundos.\n",
            "Tiempo transcurrido: 0.0531029701 segundos.\n"
          ],
          "name": "stdout"
        }
      ]
    },
    {
      "cell_type": "code",
      "metadata": {
        "id": "-9JkzkP54vVD",
        "outputId": "d7a8cc28-c709-4356-ff78-a22da5c28c14",
        "colab": {
          "base_uri": "https://localhost:8080/",
          "height": 187
        }
      },
      "source": [
        "#T(n) = 102\n",
        "def ejemplo3( n ): # n=4\n",
        "    start_time = time()\n",
        "    x = n * 2 # x = 8\n",
        "    y = 0   # y = 0\n",
        "    for m in range( 100 ): #3\n",
        "        y = x - n   # y = 4\n",
        "    elapsed_time = time() - start_time\n",
        "    print(\"Tiempo transcurrido: %0.10f segundos.\" % elapsed_time)\n",
        "    return y\n",
        "\n",
        "def main():\n",
        "  for i in range (100 , 1100 , 100 ):\n",
        "    ejemplo3(i)\n",
        "\n",
        "main()"
      ],
      "execution_count": null,
      "outputs": [
        {
          "output_type": "stream",
          "text": [
            "Tiempo transcurrido: 0.0000042915 segundos.\n",
            "Tiempo transcurrido: 0.0000071526 segundos.\n",
            "Tiempo transcurrido: 0.0000083447 segundos.\n",
            "Tiempo transcurrido: 0.0000090599 segundos.\n",
            "Tiempo transcurrido: 0.0000088215 segundos.\n",
            "Tiempo transcurrido: 0.0000083447 segundos.\n",
            "Tiempo transcurrido: 0.0000088215 segundos.\n",
            "Tiempo transcurrido: 0.0000088215 segundos.\n",
            "Tiempo transcurrido: 0.0000090599 segundos.\n",
            "Tiempo transcurrido: 0.0000090599 segundos.\n"
          ],
          "name": "stdout"
        }
      ]
    },
    {
      "cell_type": "code",
      "metadata": {
        "id": "vjhm-pVy40Ct",
        "outputId": "c93f6351-bca0-4325-9cec-d91dfab9bb8a",
        "colab": {
          "base_uri": "https://localhost:8080/",
          "height": 187
        }
      },
      "source": [
        "#T(n) = 3\n",
        "from time import time\n",
        "\n",
        "def ejemplo4( n ):\n",
        "    start_time = time()\n",
        "    x = 3 * 3.1416 + n\n",
        "    y = x + 3 * 3 - n\n",
        "    z = x + y\n",
        "    elapsed_time = time() - start_time\n",
        "    print(\"Tiempo transcurrido: %0.10f segundos.\" % elapsed_time)\n",
        "    return z\n",
        "\n",
        "def main():\n",
        "  \n",
        "  for i in range (100 , 1100 , 100 ):\n",
        "    ejemplo4(i)\n",
        "\n",
        "\n",
        "main()"
      ],
      "execution_count": null,
      "outputs": [
        {
          "output_type": "stream",
          "text": [
            "Tiempo transcurrido: 0.0000011921 segundos.\n",
            "Tiempo transcurrido: 0.0000009537 segundos.\n",
            "Tiempo transcurrido: 0.0000004768 segundos.\n",
            "Tiempo transcurrido: 0.0000004768 segundos.\n",
            "Tiempo transcurrido: 0.0000004768 segundos.\n",
            "Tiempo transcurrido: 0.0000004768 segundos.\n",
            "Tiempo transcurrido: 0.0000007153 segundos.\n",
            "Tiempo transcurrido: 0.0000004768 segundos.\n",
            "Tiempo transcurrido: 0.0000004768 segundos.\n",
            "Tiempo transcurrido: 0.0000004768 segundos.\n"
          ],
          "name": "stdout"
        }
      ]
    },
    {
      "cell_type": "code",
      "metadata": {
        "id": "EH2TJ3xZ49hA",
        "outputId": "798583f1-977f-426b-cc06-a94f71086577",
        "colab": {
          "base_uri": "https://localhost:8080/",
          "height": 187
        }
      },
      "source": [
        "#T(n) = 1 + x\n",
        "from time import time\n",
        "\n",
        "def ejemplo5( x ):\n",
        "    start_time = time()\n",
        "    n = 10\n",
        "    for j in range( 0 , x , 1 ):\n",
        "        n = j + n\n",
        "    elapsed_time = time() - start_time\n",
        "    print(\"Tiempo transcurrido: %0.10f segundos.\" % elapsed_time)\n",
        "    return n\n",
        "\n",
        "def main():\n",
        "\n",
        "  for i in range (100 , 1100 , 100 ):\n",
        "    ejemplo5(i)\n",
        "\n",
        "main()"
      ],
      "execution_count": null,
      "outputs": [
        {
          "output_type": "stream",
          "text": [
            "Tiempo transcurrido: 0.0000061989 segundos.\n",
            "Tiempo transcurrido: 0.0000154972 segundos.\n",
            "Tiempo transcurrido: 0.0000257492 segundos.\n",
            "Tiempo transcurrido: 0.0000531673 segundos.\n",
            "Tiempo transcurrido: 0.0000531673 segundos.\n",
            "Tiempo transcurrido: 0.0000574589 segundos.\n",
            "Tiempo transcurrido: 0.0000662804 segundos.\n",
            "Tiempo transcurrido: 0.0000741482 segundos.\n",
            "Tiempo transcurrido: 0.0000822544 segundos.\n",
            "Tiempo transcurrido: 0.0000867844 segundos.\n"
          ],
          "name": "stdout"
        }
      ]
    },
    {
      "cell_type": "code",
      "metadata": {
        "id": "fLmYRSug5E6b",
        "outputId": "1c01793f-0a5a-4e8a-8434-ab9319d4779b",
        "colab": {
          "base_uri": "https://localhost:8080/",
          "height": 187
        }
      },
      "source": [
        "from time import time\n",
        "\n",
        "def ejemplo6( n ):\n",
        "    start_time = time()\n",
        "    data=[[[1 for x in range(n)] for x in range(n)] \n",
        "          for x in range(n)]\n",
        "    suma = 0\n",
        "    for d in range(n):\n",
        "        for r in range(n):\n",
        "            for c in range(n):\n",
        "                suma += data[d][r][c]\n",
        "    elapsed_time = time() - start_time\n",
        "    print(\"Tiempo transcurrido: %0.10f segundos.\" % elapsed_time)\n",
        "    return suma\n",
        "def main():\n",
        "\n",
        "  for i in range (100 , 1100 , 100 ):\n",
        "    ejemplo6(i)\n",
        "\n",
        "main()"
      ],
      "execution_count": null,
      "outputs": [
        {
          "output_type": "stream",
          "text": [
            "Tiempo transcurrido: 0.1913313866 segundos.\n",
            "Tiempo transcurrido: 1.0282621384 segundos.\n",
            "Tiempo transcurrido: 3.7596216202 segundos.\n",
            "Tiempo transcurrido: 13.9363393784 segundos.\n",
            "Tiempo transcurrido: 17.9300432205 segundos.\n",
            "Tiempo transcurrido: 32.6678171158 segundos.\n",
            "Tiempo transcurrido: 53.5193817616 segundos.\n",
            "Tiempo transcurrido: 79.4757330418 segundos.\n",
            "Tiempo transcurrido: 112.8637893200 segundos.\n",
            "Tiempo transcurrido: 158.1331107616 segundos.\n"
          ],
          "name": "stdout"
        }
      ]
    }
  ]
}