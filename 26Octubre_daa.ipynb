{
  "nbformat": 4,
  "nbformat_minor": 0,
  "metadata": {
    "colab": {
      "name": "26Octubre_daa",
      "provenance": [],
      "authorship_tag": "ABX9TyMnwjLYGDJWkzg95GFWKfWY",
      "include_colab_link": true
    },
    "kernelspec": {
      "name": "python3",
      "display_name": "Python 3"
    }
  },
  "cells": [
    {
      "cell_type": "markdown",
      "metadata": {
        "id": "view-in-github",
        "colab_type": "text"
      },
      "source": [
        "<a href=\"https://colab.research.google.com/github/Juan-Carlos-Perez-Angeles/daa_2021_1/blob/master/26Octubre_daa.ipynb\" target=\"_parent\"><img src=\"https://colab.research.google.com/assets/colab-badge.svg\" alt=\"Open In Colab\"/></a>"
      ]
    },
    {
      "cell_type": "code",
      "metadata": {
        "id": "l3o7so3ehMYT"
      },
      "source": [
        "def ejemplo11( n ):\n",
        "    count = 0\n",
        "    i = n\n",
        "    while i > 1 :\n",
        "        count += 1\n",
        "        i = i // 2 \n",
        "    return count\n",
        "print(ejemplo11(16))\n",
        "# T(n) =  2 + (2 Log 2 n)"
      ],
      "execution_count": null,
      "outputs": []
    },
    {
      "cell_type": "markdown",
      "metadata": {
        "id": "iHWcd4dOhYIP"
      },
      "source": [
        "\"\"\"\n",
        "\n",
        "n= 3\n",
        "000\n",
        "n00 <-- aqui empieza el for interno\n",
        "nn0 <--- aqui termina el for interno\n",
        "nnn\n",
        "n = 4\n",
        "0000\n",
        "n000 <-- aqui empieza el for interno\n",
        "nn00\n",
        "nnn0 <--- aqui termina el for interno\n",
        "nnnn\n",
        "\n",
        "n =5\n",
        "00000\n",
        "n0000 <-- aqui empieza el for interno\n",
        "nn000\n",
        "nnn00\n",
        "nnnn0 <--- aqui termina el for interno\n",
        "nnnnn\n",
        "\"\"\""
      ]
    },
    {
      "cell_type": "code",
      "metadata": {
        "id": "m_5pnQ4yhcru"
      },
      "source": [
        "def ejemplo12( n ):\n",
        "    contador = 0\n",
        "    for x in range(n):\n",
        "        contador += ejemplo11(x)\n",
        "    return contador\n",
        "    #1+n(2+2log2(n))"
      ],
      "execution_count": null,
      "outputs": []
    },
    {
      "cell_type": "code",
      "metadata": {
        "id": "6LQubuaCkolV"
      },
      "source": [
        "def ejemplo12_bis( n=5 ):\n",
        "    contador = 0\n",
        "    contador = contador + ejemplo11(0) # 0\n",
        "    contador = contador + ejemplo11(1) # 0\n",
        "    contador = contador + ejemplo11(2) # 1\n",
        "    contador = contador + ejemplo11(3) # 1\n",
        "    contador = contador + ejemplo11(4) # 2\n",
        "    return contador\n",
        "ejemplo12_bis( 5 )  "
      ],
      "execution_count": null,
      "outputs": []
    },
    {
      "cell_type": "code",
      "metadata": {
        "id": "_AL6AuoyodTn"
      },
      "source": [
        "def ejemplo13( x ):\n",
        "    bandera = x\n",
        "    contador = 0\n",
        "    while( bandera >= 10):\n",
        "        print(f\" x = { bandera } \")\n",
        "        bandera /= 10\n",
        "        contador = contador + 1\n",
        "    print(contador)\n",
        "# T(x) = log10 x +1\n",
        "ejemplo13( 1000 )"
      ],
      "execution_count": null,
      "outputs": []
    },
    {
      "cell_type": "code",
      "metadata": {
        "id": "rHSBJP25oife"
      },
      "source": [
        "def ejemplo14( n ):\n",
        "    y = n\n",
        "    z = n\n",
        "    contador = 0\n",
        "    while y >= 3: #3\n",
        "        y /= 3  # 1\n",
        "        contador += 1  # cont =3\n",
        "    \n",
        "    while z >= 3: #27\n",
        "        z /= 3\n",
        "        contador += 1\n",
        "    return contador\n",
        "print(ejemplo14( 27 ))"
      ],
      "execution_count": null,
      "outputs": []
    },
    {
      "cell_type": "code",
      "metadata": {
        "id": "rGvSD3qho0QN"
      },
      "source": [
        "def ejemplo15( n ): \n",
        "    contador = 0\n",
        "    for i in range( n ) :\n",
        "        for j in range( n ) :\n",
        "            contador += 1\n",
        "            \n",
        "    while n > 1 :\n",
        "        contador += 1\n",
        "        n /= 2\n",
        "    return contador\n",
        "\n",
        "print(ejemplo15(10))\n",
        "#T(n) = 1+n^2+log2(n)"
      ],
      "execution_count": null,
      "outputs": []
    }
  ]
}