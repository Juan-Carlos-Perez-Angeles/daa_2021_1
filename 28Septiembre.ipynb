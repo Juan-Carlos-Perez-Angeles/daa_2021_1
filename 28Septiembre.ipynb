{
  "nbformat": 4,
  "nbformat_minor": 0,
  "metadata": {
    "colab": {
      "name": "28Septiembre.ipynb",
      "provenance": [],
      "authorship_tag": "ABX9TyNL7sw8a/Qs8y8eKHZAr35V",
      "include_colab_link": true
    },
    "kernelspec": {
      "name": "python3",
      "display_name": "Python 3"
    }
  },
  "cells": [
    {
      "cell_type": "markdown",
      "metadata": {
        "id": "view-in-github",
        "colab_type": "text"
      },
      "source": [
        "<a href=\"https://colab.research.google.com/github/Juan-Carlos-Perez-Angeles/daa_2021_1/blob/master/28Septiembre.ipynb\" target=\"_parent\"><img src=\"https://colab.research.google.com/assets/colab-badge.svg\" alt=\"Open In Colab\"/></a>"
      ]
    },
    {
      "cell_type": "code",
      "metadata": {
        "id": "qer-BR09CgDt"
      },
      "source": [
        ""
      ],
      "execution_count": null,
      "outputs": []
    },
    {
      "cell_type": "markdown",
      "metadata": {
        "id": "XVeuO8NuCutb"
      },
      "source": [
        "# Sección 1\n",
        "En este archivo aprenderemos a programar en Python con la herramiena Google, colab research.\n",
        "\n",
        "Tambien aprenderemos a guardar nuestros cambios en nuestro repositorio de github.com\n",
        "\n",
        "##Codigo de ejemplo\n",
        "\n",
        "`\n",
        "edad = 10 \n",
        "print(edad)\n",
        "\n",
        "##Codigo Texto`"
      ]
    },
    {
      "cell_type": "code",
      "metadata": {
        "id": "6qI-kU0LHGqV",
        "outputId": "ba4ea958-f414-45b4-d4ec-051cd0565768",
        "colab": {
          "base_uri": "https://localhost:8080/",
          "height": 34
        }
      },
      "source": [
        "Frutas = []\n",
        "Frutas.append('Manzana')\n",
        "Frutas.append('Piña')\n",
        "Frutas.append('Kiwi')\n",
        "print(Frutas)"
      ],
      "execution_count": 4,
      "outputs": [
        {
          "output_type": "stream",
          "text": [
            "['Manzana', 'Piña', 'Kiwi']\n"
          ],
          "name": "stdout"
        }
      ]
    },
    {
      "cell_type": "code",
      "metadata": {
        "id": "cnzoOs37H_O7"
      },
      "source": [
        "archivo = open('prueba_daa.txt','wt')\n",
        "archivo.write(\"Hola mundo Jupyter\")\n",
        "archivo.close()"
      ],
      "execution_count": 6,
      "outputs": []
    }
  ]
}