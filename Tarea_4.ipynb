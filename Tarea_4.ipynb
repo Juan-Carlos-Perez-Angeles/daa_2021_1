{
  "nbformat": 4,
  "nbformat_minor": 0,
  "metadata": {
    "colab": {
      "name": "Tarea 4.ipynb",
      "provenance": [],
      "authorship_tag": "ABX9TyPZzhqbY6+FGjBn6hJgJRIi",
      "include_colab_link": true
    },
    "kernelspec": {
      "name": "python3",
      "display_name": "Python 3"
    }
  },
  "cells": [
    {
      "cell_type": "markdown",
      "metadata": {
        "id": "view-in-github",
        "colab_type": "text"
      },
      "source": [
        "<a href=\"https://colab.research.google.com/github/Juan-Carlos-Perez-Angeles/daa_2021_1/blob/master/Tarea_4.ipynb\" target=\"_parent\"><img src=\"https://colab.research.google.com/assets/colab-badge.svg\" alt=\"Open In Colab\"/></a>"
      ]
    },
    {
      "cell_type": "code",
      "metadata": {
        "id": "tSTCmtKaY7Cl"
      },
      "source": [
        "def ejemplo4(n):\n",
        "  count = 0 \n",
        "  i = n\n",
        "  print(\"nivel 1\")\n",
        "  while i >= 1 :\n",
        "    (\"nivel 2\")\n",
        "    count ++1\n",
        "    i = i // 2\n",
        "  basura =3 + 2\n",
        "  print(\"nivel 3\")\n",
        "  return count"
      ],
      "execution_count": 2,
      "outputs": []
    },
    {
      "cell_type": "markdown",
      "metadata": {
        "id": "P9jwakqiGmUl"
      },
      "source": [
        "log(2n+1)\n",
        "\n",
        "1                  0.4771212547\n",
        "\n",
        "10                 1.322219295\n",
        "\n",
        "100                2.303196057\n",
        "\n",
        "1000               3.301247089\n",
        "\n",
        "10000              4.30105171\n",
        "\n",
        "100000             5.301032167\n",
        "\n",
        "1000000            6.301030213\n",
        "\n",
        "10000000           7.301030017"
      ]
    }
  ]
}